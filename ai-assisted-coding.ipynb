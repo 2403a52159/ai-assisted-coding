{
  "cells": [
    {
      "cell_type": "code",
      "execution_count": null,
      "metadata": {
        "id": "LRZ_TiDTtbYY"
      },
      "outputs": [],
      "source": []
    },
    {
      "cell_type": "markdown",
      "metadata": {
        "id": "a1rvKqjAtfKG"
      },
      "source": [
        "**Task 1: Zero-shot Prompt – Fibonacci Series Generator**"
      ]
    },
    {
      "cell_type": "code",
      "execution_count": null,
      "metadata": {
        "id": "qeDhknitusey"
      },
      "outputs": [],
      "source": []
    },
    {
      "cell_type": "markdown",
      "metadata": {
        "id": "Rt-JTyZTvkiK"
      },
      "source": [
        "**prompt 1:write a Python code function to print the first N Fibonacci numbers.**"
      ]
    },
    {
      "cell_type": "code",
      "execution_count": null,
      "metadata": {
        "colab": {
          "base_uri": "https://localhost:8080/"
        },
        "id": "d084c460",
        "outputId": "5957a3e4-7866-4341-86ea-3960471f428e"
      },
      "outputs": [
        {
          "name": "stdout",
          "output_type": "stream",
          "text": [
            "Fibonacci series:\n",
            "0\n",
            "1\n",
            "1\n",
            "2\n",
            "3\n",
            "5\n",
            "8\n",
            "13\n",
            "21\n",
            "34\n"
          ]
        }
      ],
      "source": [
        "def fibonacci_series(n):\n",
        "  \"\"\"\n",
        "  Prints the first N Fibonacci numbers.\n",
        "\n",
        "  Args:\n",
        "    n: The number of Fibonacci numbers to print.\n",
        "  \"\"\"\n",
        "  if n <= 0:\n",
        "    print(\"Please enter a positive integer.\")\n",
        "  elif n == 1:\n",
        "    print(\"Fibonacci series:\")\n",
        "    print(0)\n",
        "  else:\n",
        "    a, b = 0, 1\n",
        "    print(\"Fibonacci series:\")\n",
        "    print(a)\n",
        "    print(b)\n",
        "    for _ in range(2, n):\n",
        "      next_fib = a + b\n",
        "      print(next_fib)\n",
        "      a = b\n",
        "      b = next_fib\n",
        "\n",
        "# Example usage:\n",
        "fibonacci_series(10)"
      ]
    },
    {
      "cell_type": "markdown",
      "metadata": {
        "id": "hVNkLyc5v6Gy"
      },
      "source": [
        "**Task 2:One-shot Prompt – List Reversal Function**"
      ]
    },
    {
      "cell_type": "markdown",
      "metadata": {
        "id": "6gLZ3C51x7X9"
      },
      "source": [
        "**prompt 2: write a python code to generate One-shot Prompt – List Reversal Function**"
      ]
    },
    {
      "cell_type": "code",
      "execution_count": null,
      "metadata": {
        "colab": {
          "base_uri": "https://localhost:8080/"
        },
        "id": "002aba7b",
        "outputId": "e0d3717f-84dd-4c47-de6d-3070a7d2f236"
      },
      "outputs": [
        {
          "name": "stdout",
          "output_type": "stream",
          "text": [
            "Original list: [1, 2, 3, 4, 5]\n",
            "Reversed list: [5, 4, 3, 2, 1]\n"
          ]
        }
      ],
      "source": [
        "def reverse_list(input_list):\n",
        "  \"\"\"\n",
        "  Reverses a given list.\n",
        "\n",
        "  Args:\n",
        "    input_list: The list to be reversed.\n",
        "\n",
        "  Returns:\n",
        "    A new list containing the reversed elements of the input list.\n",
        "  \"\"\"\n",
        "  return input_list[::-1]\n",
        "\n",
        "# Example usage (One-shot prompt):\n",
        "my_list = [1, 2, 3, 4, 5]\n",
        "reversed_list = reverse_list(my_list)\n",
        "print(f\"Original list: {my_list}\")\n",
        "print(f\"Reversed list: {reversed_list}\")"
      ]
    },
    {
      "cell_type": "markdown",
      "metadata": {
        "id": "PwnVieP4xZju"
      },
      "source": [
        "**Task 3:Few-shot Prompt – String Pattern Matching**"
      ]
    },
    {
      "cell_type": "code",
      "execution_count": null,
      "metadata": {
        "id": "BQB4GdW7yVDU"
      },
      "outputs": [],
      "source": []
    },
    {
      "cell_type": "markdown",
      "metadata": {
        "id": "5F6PanSJziVh"
      },
      "source": [
        "**prompt 3: prompt: Check if string starts with capital and ends with period: # Examples: \"Hello.\"**"
      ]
    },
    {
      "cell_type": "code",
      "execution_count": null,
      "metadata": {
        "colab": {
          "base_uri": "https://localhost:8080/"
        },
        "id": "3da7eb06",
        "outputId": "27acb474-c3f4-4fc9-8532-bd79024f4a1a"
      },
      "outputs": [
        {
          "name": "stdout",
          "output_type": "stream",
          "text": [
            "'Hello.' starts with capital and ends with period: True\n",
            "'hello.' starts with capital and ends with period: False\n",
            "'Hello' starts with capital and ends with period: False\n",
            "'Hello!' starts with capital and ends with period: False\n"
          ]
        }
      ],
      "source": [
        "import re\n",
        "\n",
        "def check_string_format(input_string):\n",
        "  \"\"\"\n",
        "  Checks if a string starts with a capital letter and ends with a period.\n",
        "\n",
        "  Args:\n",
        "    input_string: The string to check.\n",
        "\n",
        "  Returns:\n",
        "    True if the string starts with a capital letter and ends with a period, False otherwise.\n",
        "  \"\"\"\n",
        "  # Check if the first character is uppercase and the last character is a period\n",
        "  if input_string and input_string[0].isupper() and input_string.endswith('.'):\n",
        "    return True\n",
        "  else:\n",
        "    return False\n",
        "\n",
        "# Example usage:\n",
        "test_string1 = \"Hello.\"\n",
        "test_string2 = \"hello.\"\n",
        "test_string3 = \"Hello\"\n",
        "test_string4 = \"Hello!\"\n",
        "\n",
        "print(f\"'{test_string1}' starts with capital and ends with period: {check_string_format(test_string1)}\")\n",
        "print(f\"'{test_string2}' starts with capital and ends with period: {check_string_format(test_string2)}\")\n",
        "print(f\"'{test_string3}' starts with capital and ends with period: {check_string_format(test_string3)}\")\n",
        "print(f\"'{test_string4}' starts with capital and ends with period: {check_string_format(test_string4)}\")"
      ]
    },
    {
      "cell_type": "markdown",
      "metadata": {
        "id": "4lS5iTVYzuLL"
      },
      "source": [
        "**Task 4:Zero-shot vs Few-shot – Email Validator**"
      ]
    },
    {
      "cell_type": "code",
      "execution_count": null,
      "metadata": {
        "id": "MLOl8M6A03tZ"
      },
      "outputs": [],
      "source": []
    },
    {
      "cell_type": "markdown",
      "metadata": {
        "id": "HVjv0_mX1JFK"
      },
      "source": [
        "**prompt 4: write a python code to generate to write an email validation function using zero-shot (just the task in comment). • Then, rewrite the prompt using few-shot examples.**"
      ]
    },
    {
      "cell_type": "code",
      "execution_count": null,
      "metadata": {
        "colab": {
          "base_uri": "https://localhost:8080/"
        },
        "id": "93f7da5c",
        "outputId": "69f8b3e5-3fb4-4a4f-b04b-9d5b4defd5d0"
      },
      "outputs": [
        {
          "name": "stdout",
          "output_type": "stream",
          "text": [
            "'test@example.com' is valid: True\n",
            "'another.user123@sub.domain.co.uk' is valid: True\n",
            "'invalid-email' is valid: False\n",
            "'user@.com' is valid: False\n",
            "'user@domain.' is valid: False\n"
          ]
        }
      ],
      "source": [
        "# Write a Python function to validate an email address.\n",
        "# Examples:\n",
        "# Valid emails: \"test@example.com\", \"another.user123@sub.domain.co.uk\"\n",
        "# Invalid emails: \"invalid-email\", \"user@.com\", \"user@domain.\"\n",
        "\n",
        "import re\n",
        "\n",
        "def is_valid_email_few_shot(email):\n",
        "  \"\"\"\n",
        "  Validates an email address format based on provided examples.\n",
        "\n",
        "  Args:\n",
        "    email: The email address string to validate.\n",
        "\n",
        "  Returns:\n",
        "    True if the email format is valid according to the examples, False otherwise.\n",
        "  \"\"\"\n",
        "  # This regex attempts to capture the patterns observed in the few-shot examples.\n",
        "  # It's similar to the zero-shot but the examples help reinforce the expected structure.\n",
        "  email_regex = r'^[a-zA-Z0-9._%+-]+@[a-zA-Z0-9.-]+\\.[a-zA-Z]{2,}$'\n",
        "  if re.match(email_regex, email):\n",
        "    return True\n",
        "  else:\n",
        "    return False\n",
        "\n",
        "# Example usage with the provided examples:\n",
        "print(f\"'test@example.com' is valid: {is_valid_email_few_shot('test@example.com')}\")\n",
        "print(f\"'another.user123@sub.domain.co.uk' is valid: {is_valid_email_few_shot('another.user123@sub.domain.co.uk')}\")\n",
        "print(f\"'invalid-email' is valid: {is_valid_email_few_shot('invalid-email')}\")\n",
        "print(f\"'user@.com' is valid: {is_valid_email_few_shot('user@.com')}\")\n",
        "print(f\"'user@domain.' is valid: {is_valid_email_few_shot('user@domain.')}\")"
      ]
    },
    {
      "cell_type": "markdown",
      "metadata": {
        "id": "1MuSvXQV1RPW"
      },
      "source": [
        " **Task 5:Prompt Tuning – Summing Digits of a Number**"
      ]
    },
    {
      "cell_type": "code",
      "execution_count": null,
      "metadata": {
        "id": "mgJFmLXM1lHV"
      },
      "outputs": [],
      "source": []
    },
    {
      "cell_type": "markdown",
      "metadata": {
        "id": "eH-m-Uu62Udw"
      },
      "source": [
        "**prompt 5: write a program to generate a function that returns the sum of digits of a number. Style 1: Generic task prompt Style 2: Task + Input/Output example**"
      ]
    },
    {
      "cell_type": "code",
      "execution_count": null,
      "metadata": {
        "id": "h7W07kjH4sSl"
      },
      "outputs": [],
      "source": []
    },
    {
      "cell_type": "code",
      "execution_count": null,
      "metadata": {
        "colab": {
          "base_uri": "https://localhost:8080/"
        },
        "id": "e89432d6",
        "outputId": "2aafc890-9c4e-497f-ee37-65774e59b5ef"
      },
      "outputs": [
        {
          "name": "stdout",
          "output_type": "stream",
          "text": [
            "Sum of digits of 123 (Generic Style): 6\n"
          ]
        }
      ],
      "source": [
        "# Style 1: Generic task prompt\n",
        "# Write a Python function to calculate the sum of digits of a number.\n",
        "\n",
        "def sum_digits_generic(number):\n",
        "  \"\"\"\n",
        "  Calculates the sum of the digits of a number.\n",
        "\n",
        "  Args:\n",
        "    number: The input number (integer).\n",
        "\n",
        "  Returns:\n",
        "    The sum of the digits of the number.\n",
        "  \"\"\"\n",
        "  sum_of_digits = 0\n",
        "  for digit in str(number):\n",
        "    sum_of_digits += int(digit)\n",
        "  return sum_of_digits\n",
        "\n",
        "# Example usage:\n",
        "num1 = 123\n",
        "print(f\"Sum of digits of {num1} (Generic Style): {sum_digits_generic(num1)}\")"
      ]
    },
    {
      "cell_type": "code",
      "execution_count": null,
      "metadata": {
        "colab": {
          "base_uri": "https://localhost:8080/"
        },
        "id": "9a82c408",
        "outputId": "dedc573c-4a6a-4e0b-90f6-a5a45df7bb57"
      },
      "outputs": [
        {
          "name": "stdout",
          "output_type": "stream",
          "text": [
            "Sum of digits of 12345 (Example Style): 15\n"
          ]
        }
      ],
      "source": [
        "# Style 2: Task + Input/Output example\n",
        "# Write a Python function that takes a number as input and returns the sum of its digits.\n",
        "# Input: 12345\n",
        "# Output: 15\n",
        "\n",
        "def sum_digits_with_example(number):\n",
        "  \"\"\"\n",
        "  Calculates the sum of the digits of a number based on the provided example.\n",
        "\n",
        "  Args:\n",
        "    number: The input number (integer).\n",
        "\n",
        "  Returns:\n",
        "    The sum of the digits of the number.\n",
        "  \"\"\"\n",
        "  sum_of_digits = 0\n",
        "  for digit in str(number):\n",
        "    sum_of_digits += int(digit)\n",
        "  return sum_of_digits\n",
        "\n",
        "# Example usage based on the prompt example:\n",
        "num2 = 12345\n",
        "print(f\"Sum of digits of {num2} (Example Style): {sum_digits_with_example(num2)}\")"
      ]
    }
  ],
  "metadata": {
    "colab": {
      "provenance": []
    },
    "kernelspec": {
      "display_name": "Python 3",
      "name": "python3"
    },
    "language_info": {
      "name": "python"
    }
  },
  "nbformat": 4,
  "nbformat_minor": 0
}
